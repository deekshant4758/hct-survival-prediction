{
 "cells": [
  {
   "cell_type": "code",
   "execution_count": 1,
   "id": "21a94dfa",
   "metadata": {
    "_cell_guid": "b1076dfc-b9ad-4769-8c92-a6c4dae69d19",
    "_uuid": "8f2839f25d086af736a60e9eeb907d3b93b6e0e5",
    "execution": {
     "iopub.execute_input": "2025-02-18T18:12:34.877636Z",
     "iopub.status.busy": "2025-02-18T18:12:34.877350Z",
     "iopub.status.idle": "2025-02-18T18:12:35.620920Z",
     "shell.execute_reply": "2025-02-18T18:12:35.619754Z"
    },
    "papermill": {
     "duration": 0.750707,
     "end_time": "2025-02-18T18:12:35.622394",
     "exception": false,
     "start_time": "2025-02-18T18:12:34.871687",
     "status": "completed"
    },
    "tags": []
   },
   "outputs": [
    {
     "name": "stdout",
     "output_type": "stream",
     "text": [
      "/kaggle/input/pip-install-lifelines/fonttools-4.55.1-cp310-cp310-manylinux_2_17_x86_64.manylinux2014_x86_64.whl\n",
      "/kaggle/input/pip-install-lifelines/tzdata-2024.2-py2.py3-none-any.whl\n",
      "/kaggle/input/pip-install-lifelines/kiwisolver-1.4.7-cp310-cp310-manylinux_2_12_x86_64.manylinux2010_x86_64.whl\n",
      "/kaggle/input/pip-install-lifelines/interface_meta-1.3.0-py3-none-any.whl\n",
      "/kaggle/input/pip-install-lifelines/scipy-1.14.1-cp310-cp310-manylinux_2_17_x86_64.manylinux2014_x86_64.whl\n",
      "/kaggle/input/pip-install-lifelines/pillow-11.0.0-cp310-cp310-manylinux_2_28_x86_64.whl\n",
      "/kaggle/input/pip-install-lifelines/contourpy-1.3.1-cp310-cp310-manylinux_2_17_x86_64.manylinux2014_x86_64.whl\n",
      "/kaggle/input/pip-install-lifelines/pyparsing-3.2.0-py3-none-any.whl\n",
      "/kaggle/input/pip-install-lifelines/wrapt-1.17.0-cp310-cp310-manylinux_2_5_x86_64.manylinux1_x86_64.manylinux_2_17_x86_64.manylinux2014_x86_64.whl\n",
      "/kaggle/input/pip-install-lifelines/__results__.html\n",
      "/kaggle/input/pip-install-lifelines/cycler-0.12.1-py3-none-any.whl\n",
      "/kaggle/input/pip-install-lifelines/autograd-1.7.0-py3-none-any.whl\n",
      "/kaggle/input/pip-install-lifelines/numpy-2.1.3-cp310-cp310-manylinux_2_17_x86_64.manylinux2014_x86_64.whl\n",
      "/kaggle/input/pip-install-lifelines/matplotlib-3.9.3-cp310-cp310-manylinux_2_17_x86_64.manylinux2014_x86_64.whl\n",
      "/kaggle/input/pip-install-lifelines/six-1.17.0-py2.py3-none-any.whl\n",
      "/kaggle/input/pip-install-lifelines/lifelines-0.30.0-py3-none-any.whl\n",
      "/kaggle/input/pip-install-lifelines/formulaic-1.0.2-py3-none-any.whl\n",
      "/kaggle/input/pip-install-lifelines/autograd-gamma-0.5.0.tar.gz\n",
      "/kaggle/input/pip-install-lifelines/python_dateutil-2.9.0.post0-py2.py3-none-any.whl\n",
      "/kaggle/input/pip-install-lifelines/__notebook__.ipynb\n",
      "/kaggle/input/pip-install-lifelines/__output__.json\n",
      "/kaggle/input/pip-install-lifelines/typing_extensions-4.12.2-py3-none-any.whl\n",
      "/kaggle/input/pip-install-lifelines/pytz-2024.2-py2.py3-none-any.whl\n",
      "/kaggle/input/pip-install-lifelines/pandas-2.2.3-cp310-cp310-manylinux_2_17_x86_64.manylinux2014_x86_64.whl\n",
      "/kaggle/input/pip-install-lifelines/packaging-24.2-py3-none-any.whl\n",
      "/kaggle/input/pip-install-lifelines/custom.css\n",
      "/kaggle/input/equity-post-HCT-survival-predictions/sample_submission.csv\n",
      "/kaggle/input/equity-post-HCT-survival-predictions/data_dictionary.csv\n",
      "/kaggle/input/equity-post-HCT-survival-predictions/train.csv\n",
      "/kaggle/input/equity-post-HCT-survival-predictions/test.csv\n",
      "/kaggle/input/lightautoml-pip/lightautoml-0.4.0-py3-none-any.whl\n",
      "/kaggle/input/lightautoml-pip/poetry_core-1.9.1-py3-none-any.whl\n",
      "/kaggle/input/lightautoml-pip/cmaes-0.11.1-py3-none-any.whl\n",
      "/kaggle/input/lightautoml-pip/statsmodels-0.14.0-cp310-cp310-manylinux_2_17_x86_64.manylinux2014_x86_64.whl\n",
      "/kaggle/input/lightautoml-pip/autowoe-1.3.3-py3-none-any.whl\n",
      "/kaggle/input/lightautoml-pip/json2html-1.3.0-py3-none-any.whl\n"
     ]
    }
   ],
   "source": [
    "# This Python 3 environment comes with many helpful analytics libraries installed\n",
    "# It is defined by the kaggle/python Docker image: https://github.com/kaggle/docker-python\n",
    "# For example, here's several helpful packages to load\n",
    "\n",
    "import numpy as np # linear algebra\n",
    "import pandas as pd # data processing, CSV file I/O (e.g. pd.read_csv)\n",
    "\n",
    "# Input data files are available in the read-only \"../input/\" directory\n",
    "# For example, running this (by clicking run or pressing Shift+Enter) will list all files under the input directory\n",
    "\n",
    "import os\n",
    "for dirname, _, filenames in os.walk('/kaggle/input'):\n",
    "    for filename in filenames:\n",
    "        print(os.path.join(dirname, filename))\n",
    "\n",
    "# You can write up to 20GB to the current directory (/kaggle/working/) that gets preserved as output when you create a version using \"Save & Run All\" \n",
    "# You can also write temporary files to /kaggle/temp/, but they won't be saved outside of the current session"
   ]
  },
  {
   "cell_type": "code",
   "execution_count": 2,
   "id": "21cfd977",
   "metadata": {
    "execution": {
     "iopub.execute_input": "2025-02-18T18:12:35.631926Z",
     "iopub.status.busy": "2025-02-18T18:12:35.631528Z",
     "iopub.status.idle": "2025-02-18T18:13:20.642247Z",
     "shell.execute_reply": "2025-02-18T18:13:20.641237Z"
    },
    "papermill": {
     "duration": 45.017588,
     "end_time": "2025-02-18T18:13:20.644447",
     "exception": false,
     "start_time": "2025-02-18T18:12:35.626859",
     "status": "completed"
    },
    "tags": []
   },
   "outputs": [
    {
     "name": "stdout",
     "output_type": "stream",
     "text": [
      "Processing /kaggle/input/lightautoml-pip/json2html-1.3.0-py3-none-any.whl\r\n",
      "Installing collected packages: json2html\r\n",
      "Successfully installed json2html-1.3.0\r\n",
      "Processing /kaggle/input/lightautoml-pip/autowoe-1.3.3-py3-none-any.whl\r\n",
      "Requirement already satisfied: StrEnum<0.5.0,>=0.4.7 in /usr/local/lib/python3.10/dist-packages (from autowoe==1.3.3) (0.4.15)\r\n",
      "Requirement already satisfied: jinja2 in /usr/local/lib/python3.10/dist-packages (from autowoe==1.3.3) (3.1.4)\r\n",
      "Requirement already satisfied: joblib in /usr/local/lib/python3.10/dist-packages (from autowoe==1.3.3) (1.4.2)\r\n",
      "Requirement already satisfied: lightgbm in /usr/local/lib/python3.10/dist-packages (from autowoe==1.3.3) (4.5.0)\r\n",
      "Requirement already satisfied: matplotlib in /usr/local/lib/python3.10/dist-packages (from autowoe==1.3.3) (3.7.5)\r\n",
      "Requirement already satisfied: numpy in /usr/local/lib/python3.10/dist-packages (from autowoe==1.3.3) (1.26.4)\r\n",
      "Requirement already satisfied: pandas in /usr/local/lib/python3.10/dist-packages (from autowoe==1.3.3) (2.2.3)\r\n",
      "Requirement already satisfied: pytest in /usr/local/lib/python3.10/dist-packages (from autowoe==1.3.3) (8.3.4)\r\n",
      "Requirement already satisfied: pytz in /usr/local/lib/python3.10/dist-packages (from autowoe==1.3.3) (2025.1)\r\n",
      "Requirement already satisfied: scikit-learn in /usr/local/lib/python3.10/dist-packages (from autowoe==1.3.3) (1.2.2)\r\n",
      "Requirement already satisfied: scipy in /usr/local/lib/python3.10/dist-packages (from autowoe==1.3.3) (1.13.1)\r\n",
      "Requirement already satisfied: seaborn in /usr/local/lib/python3.10/dist-packages (from autowoe==1.3.3) (0.12.2)\r\n",
      "Requirement already satisfied: sphinx in /usr/local/lib/python3.10/dist-packages (from autowoe==1.3.3) (8.1.3)\r\n",
      "Requirement already satisfied: sphinx-rtd-theme in /usr/local/lib/python3.10/dist-packages (from autowoe==1.3.3) (0.2.4)\r\n",
      "Requirement already satisfied: tqdm<5.0.0,>=4.62.3 in /usr/local/lib/python3.10/dist-packages (from autowoe==1.3.3) (4.67.1)\r\n",
      "Requirement already satisfied: MarkupSafe>=2.0 in /usr/local/lib/python3.10/dist-packages (from jinja2->autowoe==1.3.3) (3.0.2)\r\n",
      "Requirement already satisfied: mkl_fft in /usr/local/lib/python3.10/dist-packages (from numpy->autowoe==1.3.3) (1.3.8)\r\n",
      "Requirement already satisfied: mkl_random in /usr/local/lib/python3.10/dist-packages (from numpy->autowoe==1.3.3) (1.2.4)\r\n",
      "Requirement already satisfied: mkl_umath in /usr/local/lib/python3.10/dist-packages (from numpy->autowoe==1.3.3) (0.1.1)\r\n",
      "Requirement already satisfied: mkl in /usr/local/lib/python3.10/dist-packages (from numpy->autowoe==1.3.3) (2025.0.1)\r\n",
      "Requirement already satisfied: tbb4py in /usr/local/lib/python3.10/dist-packages (from numpy->autowoe==1.3.3) (2022.0.0)\r\n",
      "Requirement already satisfied: mkl-service in /usr/local/lib/python3.10/dist-packages (from numpy->autowoe==1.3.3) (2.4.1)\r\n",
      "Requirement already satisfied: contourpy>=1.0.1 in /usr/local/lib/python3.10/dist-packages (from matplotlib->autowoe==1.3.3) (1.3.1)\r\n",
      "Requirement already satisfied: cycler>=0.10 in /usr/local/lib/python3.10/dist-packages (from matplotlib->autowoe==1.3.3) (0.12.1)\r\n",
      "Requirement already satisfied: fonttools>=4.22.0 in /usr/local/lib/python3.10/dist-packages (from matplotlib->autowoe==1.3.3) (4.55.3)\r\n",
      "Requirement already satisfied: kiwisolver>=1.0.1 in /usr/local/lib/python3.10/dist-packages (from matplotlib->autowoe==1.3.3) (1.4.7)\r\n",
      "Requirement already satisfied: packaging>=20.0 in /usr/local/lib/python3.10/dist-packages (from matplotlib->autowoe==1.3.3) (24.2)\r\n",
      "Requirement already satisfied: pillow>=6.2.0 in /usr/local/lib/python3.10/dist-packages (from matplotlib->autowoe==1.3.3) (11.0.0)\r\n",
      "Requirement already satisfied: pyparsing>=2.3.1 in /usr/local/lib/python3.10/dist-packages (from matplotlib->autowoe==1.3.3) (3.2.0)\r\n",
      "Requirement already satisfied: python-dateutil>=2.7 in /usr/local/lib/python3.10/dist-packages (from matplotlib->autowoe==1.3.3) (2.9.0.post0)\r\n",
      "Requirement already satisfied: tzdata>=2022.7 in /usr/local/lib/python3.10/dist-packages (from pandas->autowoe==1.3.3) (2025.1)\r\n",
      "Requirement already satisfied: exceptiongroup>=1.0.0rc8 in /usr/local/lib/python3.10/dist-packages (from pytest->autowoe==1.3.3) (1.2.2)\r\n",
      "Requirement already satisfied: iniconfig in /usr/local/lib/python3.10/dist-packages (from pytest->autowoe==1.3.3) (2.0.0)\r\n",
      "Requirement already satisfied: pluggy<2,>=1.5 in /usr/local/lib/python3.10/dist-packages (from pytest->autowoe==1.3.3) (1.5.0)\r\n",
      "Requirement already satisfied: tomli>=1 in /usr/local/lib/python3.10/dist-packages (from pytest->autowoe==1.3.3) (2.2.1)\r\n",
      "Requirement already satisfied: threadpoolctl>=2.0.0 in /usr/local/lib/python3.10/dist-packages (from scikit-learn->autowoe==1.3.3) (3.5.0)\r\n",
      "Requirement already satisfied: sphinxcontrib-applehelp>=1.0.7 in /usr/local/lib/python3.10/dist-packages (from sphinx->autowoe==1.3.3) (2.0.0)\r\n",
      "Requirement already satisfied: sphinxcontrib-devhelp>=1.0.6 in /usr/local/lib/python3.10/dist-packages (from sphinx->autowoe==1.3.3) (2.0.0)\r\n",
      "Requirement already satisfied: sphinxcontrib-htmlhelp>=2.0.6 in /usr/local/lib/python3.10/dist-packages (from sphinx->autowoe==1.3.3) (2.1.0)\r\n",
      "Requirement already satisfied: sphinxcontrib-jsmath>=1.0.1 in /usr/local/lib/python3.10/dist-packages (from sphinx->autowoe==1.3.3) (1.0.1)\r\n",
      "Requirement already satisfied: sphinxcontrib-qthelp>=1.0.6 in /usr/local/lib/python3.10/dist-packages (from sphinx->autowoe==1.3.3) (2.0.0)\r\n",
      "Requirement already satisfied: sphinxcontrib-serializinghtml>=1.1.9 in /usr/local/lib/python3.10/dist-packages (from sphinx->autowoe==1.3.3) (2.0.0)\r\n",
      "Requirement already satisfied: Pygments>=2.17 in /usr/local/lib/python3.10/dist-packages (from sphinx->autowoe==1.3.3) (2.19.1)\r\n",
      "Requirement already satisfied: docutils<0.22,>=0.20 in /usr/local/lib/python3.10/dist-packages (from sphinx->autowoe==1.3.3) (0.21.2)\r\n",
      "Requirement already satisfied: snowballstemmer>=2.2 in /usr/local/lib/python3.10/dist-packages (from sphinx->autowoe==1.3.3) (2.2.0)\r\n",
      "Requirement already satisfied: babel>=2.13 in /usr/local/lib/python3.10/dist-packages (from sphinx->autowoe==1.3.3) (2.16.0)\r\n",
      "Requirement already satisfied: alabaster>=0.7.14 in /usr/local/lib/python3.10/dist-packages (from sphinx->autowoe==1.3.3) (1.0.0)\r\n",
      "Requirement already satisfied: imagesize>=1.3 in /usr/local/lib/python3.10/dist-packages (from sphinx->autowoe==1.3.3) (1.4.1)\r\n",
      "Requirement already satisfied: requests>=2.30.0 in /usr/local/lib/python3.10/dist-packages (from sphinx->autowoe==1.3.3) (2.32.3)\r\n",
      "Requirement already satisfied: six>=1.5 in /usr/local/lib/python3.10/dist-packages (from python-dateutil>=2.7->matplotlib->autowoe==1.3.3) (1.17.0)\r\n",
      "Requirement already satisfied: charset-normalizer<4,>=2 in /usr/local/lib/python3.10/dist-packages (from requests>=2.30.0->sphinx->autowoe==1.3.3) (3.4.1)\r\n",
      "Requirement already satisfied: idna<4,>=2.5 in /usr/local/lib/python3.10/dist-packages (from requests>=2.30.0->sphinx->autowoe==1.3.3) (3.10)\r\n",
      "Requirement already satisfied: urllib3<3,>=1.21.1 in /usr/local/lib/python3.10/dist-packages (from requests>=2.30.0->sphinx->autowoe==1.3.3) (2.3.0)\r\n",
      "Requirement already satisfied: certifi>=2017.4.17 in /usr/local/lib/python3.10/dist-packages (from requests>=2.30.0->sphinx->autowoe==1.3.3) (2025.1.31)\r\n",
      "Requirement already satisfied: intel-openmp>=2024 in /usr/local/lib/python3.10/dist-packages (from mkl->numpy->autowoe==1.3.3) (2024.2.0)\r\n",
      "Requirement already satisfied: tbb==2022.* in /usr/local/lib/python3.10/dist-packages (from mkl->numpy->autowoe==1.3.3) (2022.0.0)\r\n",
      "Requirement already satisfied: tcmlib==1.* in /usr/local/lib/python3.10/dist-packages (from tbb==2022.*->mkl->numpy->autowoe==1.3.3) (1.2.0)\r\n",
      "Requirement already satisfied: intel-cmplr-lib-rt in /usr/local/lib/python3.10/dist-packages (from mkl_umath->numpy->autowoe==1.3.3) (2024.2.0)\r\n",
      "Requirement already satisfied: intel-cmplr-lib-ur==2024.2.0 in /usr/local/lib/python3.10/dist-packages (from intel-openmp>=2024->mkl->numpy->autowoe==1.3.3) (2024.2.0)\r\n",
      "Installing collected packages: autowoe\r\n",
      "Successfully installed autowoe-1.3.3\r\n",
      "Processing /kaggle/input/lightautoml-pip/poetry_core-1.9.1-py3-none-any.whl\r\n",
      "Installing collected packages: poetry-core\r\n",
      "Successfully installed poetry-core-1.9.1\r\n",
      "Processing /kaggle/input/lightautoml-pip/statsmodels-0.14.0-cp310-cp310-manylinux_2_17_x86_64.manylinux2014_x86_64.whl\r\n",
      "Requirement already satisfied: numpy>=1.18 in /usr/local/lib/python3.10/dist-packages (from statsmodels==0.14.0) (1.26.4)\r\n",
      "Requirement already satisfied: scipy!=1.9.2,>=1.4 in /usr/local/lib/python3.10/dist-packages (from statsmodels==0.14.0) (1.13.1)\r\n",
      "Requirement already satisfied: pandas>=1.0 in /usr/local/lib/python3.10/dist-packages (from statsmodels==0.14.0) (2.2.3)\r\n",
      "Requirement already satisfied: patsy>=0.5.2 in /usr/local/lib/python3.10/dist-packages (from statsmodels==0.14.0) (1.0.1)\r\n",
      "Requirement already satisfied: packaging>=21.3 in /usr/local/lib/python3.10/dist-packages (from statsmodels==0.14.0) (24.2)\r\n",
      "Requirement already satisfied: mkl_fft in /usr/local/lib/python3.10/dist-packages (from numpy>=1.18->statsmodels==0.14.0) (1.3.8)\r\n",
      "Requirement already satisfied: mkl_random in /usr/local/lib/python3.10/dist-packages (from numpy>=1.18->statsmodels==0.14.0) (1.2.4)\r\n",
      "Requirement already satisfied: mkl_umath in /usr/local/lib/python3.10/dist-packages (from numpy>=1.18->statsmodels==0.14.0) (0.1.1)\r\n",
      "Requirement already satisfied: mkl in /usr/local/lib/python3.10/dist-packages (from numpy>=1.18->statsmodels==0.14.0) (2025.0.1)\r\n",
      "Requirement already satisfied: tbb4py in /usr/local/lib/python3.10/dist-packages (from numpy>=1.18->statsmodels==0.14.0) (2022.0.0)\r\n",
      "Requirement already satisfied: mkl-service in /usr/local/lib/python3.10/dist-packages (from numpy>=1.18->statsmodels==0.14.0) (2.4.1)\r\n",
      "Requirement already satisfied: python-dateutil>=2.8.2 in /usr/local/lib/python3.10/dist-packages (from pandas>=1.0->statsmodels==0.14.0) (2.9.0.post0)\r\n",
      "Requirement already satisfied: pytz>=2020.1 in /usr/local/lib/python3.10/dist-packages (from pandas>=1.0->statsmodels==0.14.0) (2025.1)\r\n",
      "Requirement already satisfied: tzdata>=2022.7 in /usr/local/lib/python3.10/dist-packages (from pandas>=1.0->statsmodels==0.14.0) (2025.1)\r\n",
      "Requirement already satisfied: six>=1.5 in /usr/local/lib/python3.10/dist-packages (from python-dateutil>=2.8.2->pandas>=1.0->statsmodels==0.14.0) (1.17.0)\r\n",
      "Requirement already satisfied: intel-openmp>=2024 in /usr/local/lib/python3.10/dist-packages (from mkl->numpy>=1.18->statsmodels==0.14.0) (2024.2.0)\r\n",
      "Requirement already satisfied: tbb==2022.* in /usr/local/lib/python3.10/dist-packages (from mkl->numpy>=1.18->statsmodels==0.14.0) (2022.0.0)\r\n",
      "Requirement already satisfied: tcmlib==1.* in /usr/local/lib/python3.10/dist-packages (from tbb==2022.*->mkl->numpy>=1.18->statsmodels==0.14.0) (1.2.0)\r\n",
      "Requirement already satisfied: intel-cmplr-lib-rt in /usr/local/lib/python3.10/dist-packages (from mkl_umath->numpy>=1.18->statsmodels==0.14.0) (2024.2.0)\r\n",
      "Requirement already satisfied: intel-cmplr-lib-ur==2024.2.0 in /usr/local/lib/python3.10/dist-packages (from intel-openmp>=2024->mkl->numpy>=1.18->statsmodels==0.14.0) (2024.2.0)\r\n",
      "Installing collected packages: statsmodels\r\n",
      "  Attempting uninstall: statsmodels\r\n",
      "    Found existing installation: statsmodels 0.14.4\r\n",
      "    Uninstalling statsmodels-0.14.4:\r\n",
      "      Successfully uninstalled statsmodels-0.14.4\r\n",
      "\u001b[31mERROR: pip's dependency resolver does not currently take into account all the packages that are installed. This behaviour is the source of the following dependency conflicts.\r\n",
      "plotnine 0.14.4 requires matplotlib>=3.8.0, but you have matplotlib 3.7.5 which is incompatible.\u001b[0m\u001b[31m\r\n",
      "\u001b[0mSuccessfully installed statsmodels-0.14.0\r\n",
      "Processing /kaggle/input/lightautoml-pip/cmaes-0.11.1-py3-none-any.whl\r\n",
      "Requirement already satisfied: numpy in /usr/local/lib/python3.10/dist-packages (from cmaes==0.11.1) (1.26.4)\r\n",
      "Requirement already satisfied: mkl_fft in /usr/local/lib/python3.10/dist-packages (from numpy->cmaes==0.11.1) (1.3.8)\r\n",
      "Requirement already satisfied: mkl_random in /usr/local/lib/python3.10/dist-packages (from numpy->cmaes==0.11.1) (1.2.4)\r\n",
      "Requirement already satisfied: mkl_umath in /usr/local/lib/python3.10/dist-packages (from numpy->cmaes==0.11.1) (0.1.1)\r\n",
      "Requirement already satisfied: mkl in /usr/local/lib/python3.10/dist-packages (from numpy->cmaes==0.11.1) (2025.0.1)\r\n",
      "Requirement already satisfied: tbb4py in /usr/local/lib/python3.10/dist-packages (from numpy->cmaes==0.11.1) (2022.0.0)\r\n",
      "Requirement already satisfied: mkl-service in /usr/local/lib/python3.10/dist-packages (from numpy->cmaes==0.11.1) (2.4.1)\r\n",
      "Requirement already satisfied: intel-openmp>=2024 in /usr/local/lib/python3.10/dist-packages (from mkl->numpy->cmaes==0.11.1) (2024.2.0)\r\n",
      "Requirement already satisfied: tbb==2022.* in /usr/local/lib/python3.10/dist-packages (from mkl->numpy->cmaes==0.11.1) (2022.0.0)\r\n",
      "Requirement already satisfied: tcmlib==1.* in /usr/local/lib/python3.10/dist-packages (from tbb==2022.*->mkl->numpy->cmaes==0.11.1) (1.2.0)\r\n",
      "Requirement already satisfied: intel-cmplr-lib-rt in /usr/local/lib/python3.10/dist-packages (from mkl_umath->numpy->cmaes==0.11.1) (2024.2.0)\r\n",
      "Requirement already satisfied: intel-cmplr-lib-ur==2024.2.0 in /usr/local/lib/python3.10/dist-packages (from intel-openmp>=2024->mkl->numpy->cmaes==0.11.1) (2024.2.0)\r\n",
      "Installing collected packages: cmaes\r\n",
      "Successfully installed cmaes-0.11.1\r\n",
      "Processing /kaggle/input/lightautoml-pip/lightautoml-0.4.0-py3-none-any.whl\r\n",
      "Requirement already satisfied: SQLAlchemy>=2.0 in /usr/local/lib/python3.10/dist-packages (from lightautoml==0.4.0) (2.0.36)\r\n",
      "Requirement already satisfied: autowoe>=1.3.3 in /usr/local/lib/python3.10/dist-packages (from lightautoml==0.4.0) (1.3.3)\r\n",
      "Requirement already satisfied: catboost>=0.26.1 in /usr/local/lib/python3.10/dist-packages (from lightautoml==0.4.0) (1.2.7)\r\n",
      "Requirement already satisfied: cmaes in /usr/local/lib/python3.10/dist-packages (from lightautoml==0.4.0) (0.11.1)\r\n",
      "Requirement already satisfied: holidays in /usr/local/lib/python3.10/dist-packages (from lightautoml==0.4.0) (0.63)\r\n",
      "Requirement already satisfied: jinja2 in /usr/local/lib/python3.10/dist-packages (from lightautoml==0.4.0) (3.1.4)\r\n",
      "Requirement already satisfied: joblib in /usr/local/lib/python3.10/dist-packages (from lightautoml==0.4.0) (1.4.2)\r\n",
      "Requirement already satisfied: json2html in /usr/local/lib/python3.10/dist-packages (from lightautoml==0.4.0) (1.3.0)\r\n",
      "Requirement already satisfied: lightgbm>=2.3 in /usr/local/lib/python3.10/dist-packages (from lightautoml==0.4.0) (4.5.0)\r\n",
      "Requirement already satisfied: networkx in /usr/local/lib/python3.10/dist-packages (from lightautoml==0.4.0) (3.4.2)\r\n",
      "Requirement already satisfied: numpy<2.0.0 in /usr/local/lib/python3.10/dist-packages (from lightautoml==0.4.0) (1.26.4)\r\n",
      "Requirement already satisfied: optuna in /usr/local/lib/python3.10/dist-packages (from lightautoml==0.4.0) (4.2.0)\r\n",
      "Requirement already satisfied: pandas in /usr/local/lib/python3.10/dist-packages (from lightautoml==0.4.0) (2.2.3)\r\n",
      "Requirement already satisfied: poetry-core<2.0.0,>=1.0.0 in /usr/local/lib/python3.10/dist-packages (from lightautoml==0.4.0) (1.9.1)\r\n",
      "Requirement already satisfied: pyyaml in /usr/local/lib/python3.10/dist-packages (from lightautoml==0.4.0) (6.0.2)\r\n",
      "Requirement already satisfied: scikit-learn>=0.22 in /usr/local/lib/python3.10/dist-packages (from lightautoml==0.4.0) (1.2.2)\r\n",
      "Requirement already satisfied: scipy in /usr/local/lib/python3.10/dist-packages (from lightautoml==0.4.0) (1.13.1)\r\n",
      "Requirement already satisfied: seaborn in /usr/local/lib/python3.10/dist-packages (from lightautoml==0.4.0) (0.12.2)\r\n",
      "Requirement already satisfied: statsmodels<=0.14.0 in /usr/local/lib/python3.10/dist-packages (from lightautoml==0.4.0) (0.14.0)\r\n",
      "Requirement already satisfied: torch>=1.9.0 in /usr/local/lib/python3.10/dist-packages (from lightautoml==0.4.0) (2.5.1+cu121)\r\n",
      "Requirement already satisfied: tqdm in /usr/local/lib/python3.10/dist-packages (from lightautoml==0.4.0) (4.67.1)\r\n",
      "Requirement already satisfied: xgboost<3.0.0,>=2.0.0 in /usr/local/lib/python3.10/dist-packages (from lightautoml==0.4.0) (2.0.3)\r\n",
      "Requirement already satisfied: StrEnum<0.5.0,>=0.4.7 in /usr/local/lib/python3.10/dist-packages (from autowoe>=1.3.3->lightautoml==0.4.0) (0.4.15)\r\n",
      "Requirement already satisfied: matplotlib in /usr/local/lib/python3.10/dist-packages (from autowoe>=1.3.3->lightautoml==0.4.0) (3.7.5)\r\n",
      "Requirement already satisfied: pytest in /usr/local/lib/python3.10/dist-packages (from autowoe>=1.3.3->lightautoml==0.4.0) (8.3.4)\r\n",
      "Requirement already satisfied: pytz in /usr/local/lib/python3.10/dist-packages (from autowoe>=1.3.3->lightautoml==0.4.0) (2025.1)\r\n",
      "Requirement already satisfied: sphinx in /usr/local/lib/python3.10/dist-packages (from autowoe>=1.3.3->lightautoml==0.4.0) (8.1.3)\r\n",
      "Requirement already satisfied: sphinx-rtd-theme in /usr/local/lib/python3.10/dist-packages (from autowoe>=1.3.3->lightautoml==0.4.0) (0.2.4)\r\n",
      "Requirement already satisfied: graphviz in /usr/local/lib/python3.10/dist-packages (from catboost>=0.26.1->lightautoml==0.4.0) (0.20.3)\r\n",
      "Requirement already satisfied: plotly in /usr/local/lib/python3.10/dist-packages (from catboost>=0.26.1->lightautoml==0.4.0) (5.24.1)\r\n",
      "Requirement already satisfied: six in /usr/local/lib/python3.10/dist-packages (from catboost>=0.26.1->lightautoml==0.4.0) (1.17.0)\r\n",
      "Requirement already satisfied: mkl_fft in /usr/local/lib/python3.10/dist-packages (from numpy<2.0.0->lightautoml==0.4.0) (1.3.8)\r\n",
      "Requirement already satisfied: mkl_random in /usr/local/lib/python3.10/dist-packages (from numpy<2.0.0->lightautoml==0.4.0) (1.2.4)\r\n",
      "Requirement already satisfied: mkl_umath in /usr/local/lib/python3.10/dist-packages (from numpy<2.0.0->lightautoml==0.4.0) (0.1.1)\r\n",
      "Requirement already satisfied: mkl in /usr/local/lib/python3.10/dist-packages (from numpy<2.0.0->lightautoml==0.4.0) (2025.0.1)\r\n",
      "Requirement already satisfied: tbb4py in /usr/local/lib/python3.10/dist-packages (from numpy<2.0.0->lightautoml==0.4.0) (2022.0.0)\r\n",
      "Requirement already satisfied: mkl-service in /usr/local/lib/python3.10/dist-packages (from numpy<2.0.0->lightautoml==0.4.0) (2.4.1)\r\n",
      "Requirement already satisfied: python-dateutil>=2.8.2 in /usr/local/lib/python3.10/dist-packages (from pandas->lightautoml==0.4.0) (2.9.0.post0)\r\n",
      "Requirement already satisfied: tzdata>=2022.7 in /usr/local/lib/python3.10/dist-packages (from pandas->lightautoml==0.4.0) (2025.1)\r\n",
      "Requirement already satisfied: threadpoolctl>=2.0.0 in /usr/local/lib/python3.10/dist-packages (from scikit-learn>=0.22->lightautoml==0.4.0) (3.5.0)\r\n",
      "Requirement already satisfied: typing-extensions>=4.6.0 in /usr/local/lib/python3.10/dist-packages (from SQLAlchemy>=2.0->lightautoml==0.4.0) (4.12.2)\r\n",
      "Requirement already satisfied: greenlet!=0.4.17 in /usr/local/lib/python3.10/dist-packages (from SQLAlchemy>=2.0->lightautoml==0.4.0) (3.1.1)\r\n",
      "Requirement already satisfied: patsy>=0.5.2 in /usr/local/lib/python3.10/dist-packages (from statsmodels<=0.14.0->lightautoml==0.4.0) (1.0.1)\r\n",
      "Requirement already satisfied: packaging>=21.3 in /usr/local/lib/python3.10/dist-packages (from statsmodels<=0.14.0->lightautoml==0.4.0) (24.2)\r\n",
      "Requirement already satisfied: filelock in /usr/local/lib/python3.10/dist-packages (from torch>=1.9.0->lightautoml==0.4.0) (3.17.0)\r\n",
      "Requirement already satisfied: fsspec in /usr/local/lib/python3.10/dist-packages (from torch>=1.9.0->lightautoml==0.4.0) (2024.9.0)\r\n",
      "Requirement already satisfied: sympy==1.13.1 in /usr/local/lib/python3.10/dist-packages (from torch>=1.9.0->lightautoml==0.4.0) (1.13.1)\r\n",
      "Requirement already satisfied: mpmath<1.4,>=1.1.0 in /usr/local/lib/python3.10/dist-packages (from sympy==1.13.1->torch>=1.9.0->lightautoml==0.4.0) (1.3.0)\r\n",
      "Requirement already satisfied: MarkupSafe>=2.0 in /usr/local/lib/python3.10/dist-packages (from jinja2->lightautoml==0.4.0) (3.0.2)\r\n",
      "Requirement already satisfied: alembic>=1.5.0 in /usr/local/lib/python3.10/dist-packages (from optuna->lightautoml==0.4.0) (1.14.1)\r\n",
      "Requirement already satisfied: colorlog in /usr/local/lib/python3.10/dist-packages (from optuna->lightautoml==0.4.0) (6.9.0)\r\n",
      "Requirement already satisfied: Mako in /usr/local/lib/python3.10/dist-packages (from alembic>=1.5.0->optuna->lightautoml==0.4.0) (1.3.9)\r\n",
      "Requirement already satisfied: contourpy>=1.0.1 in /usr/local/lib/python3.10/dist-packages (from matplotlib->autowoe>=1.3.3->lightautoml==0.4.0) (1.3.1)\r\n",
      "Requirement already satisfied: cycler>=0.10 in /usr/local/lib/python3.10/dist-packages (from matplotlib->autowoe>=1.3.3->lightautoml==0.4.0) (0.12.1)\r\n",
      "Requirement already satisfied: fonttools>=4.22.0 in /usr/local/lib/python3.10/dist-packages (from matplotlib->autowoe>=1.3.3->lightautoml==0.4.0) (4.55.3)\r\n",
      "Requirement already satisfied: kiwisolver>=1.0.1 in /usr/local/lib/python3.10/dist-packages (from matplotlib->autowoe>=1.3.3->lightautoml==0.4.0) (1.4.7)\r\n",
      "Requirement already satisfied: pillow>=6.2.0 in /usr/local/lib/python3.10/dist-packages (from matplotlib->autowoe>=1.3.3->lightautoml==0.4.0) (11.0.0)\r\n",
      "Requirement already satisfied: pyparsing>=2.3.1 in /usr/local/lib/python3.10/dist-packages (from matplotlib->autowoe>=1.3.3->lightautoml==0.4.0) (3.2.0)\r\n",
      "Requirement already satisfied: intel-openmp>=2024 in /usr/local/lib/python3.10/dist-packages (from mkl->numpy<2.0.0->lightautoml==0.4.0) (2024.2.0)\r\n",
      "Requirement already satisfied: tbb==2022.* in /usr/local/lib/python3.10/dist-packages (from mkl->numpy<2.0.0->lightautoml==0.4.0) (2022.0.0)\r\n",
      "Requirement already satisfied: tcmlib==1.* in /usr/local/lib/python3.10/dist-packages (from tbb==2022.*->mkl->numpy<2.0.0->lightautoml==0.4.0) (1.2.0)\r\n",
      "Requirement already satisfied: intel-cmplr-lib-rt in /usr/local/lib/python3.10/dist-packages (from mkl_umath->numpy<2.0.0->lightautoml==0.4.0) (2024.2.0)\r\n",
      "Requirement already satisfied: tenacity>=6.2.0 in /usr/local/lib/python3.10/dist-packages (from plotly->catboost>=0.26.1->lightautoml==0.4.0) (9.0.0)\r\n",
      "Requirement already satisfied: exceptiongroup>=1.0.0rc8 in /usr/local/lib/python3.10/dist-packages (from pytest->autowoe>=1.3.3->lightautoml==0.4.0) (1.2.2)\r\n",
      "Requirement already satisfied: iniconfig in /usr/local/lib/python3.10/dist-packages (from pytest->autowoe>=1.3.3->lightautoml==0.4.0) (2.0.0)\r\n",
      "Requirement already satisfied: pluggy<2,>=1.5 in /usr/local/lib/python3.10/dist-packages (from pytest->autowoe>=1.3.3->lightautoml==0.4.0) (1.5.0)\r\n",
      "Requirement already satisfied: tomli>=1 in /usr/local/lib/python3.10/dist-packages (from pytest->autowoe>=1.3.3->lightautoml==0.4.0) (2.2.1)\r\n",
      "Requirement already satisfied: sphinxcontrib-applehelp>=1.0.7 in /usr/local/lib/python3.10/dist-packages (from sphinx->autowoe>=1.3.3->lightautoml==0.4.0) (2.0.0)\r\n",
      "Requirement already satisfied: sphinxcontrib-devhelp>=1.0.6 in /usr/local/lib/python3.10/dist-packages (from sphinx->autowoe>=1.3.3->lightautoml==0.4.0) (2.0.0)\r\n",
      "Requirement already satisfied: sphinxcontrib-htmlhelp>=2.0.6 in /usr/local/lib/python3.10/dist-packages (from sphinx->autowoe>=1.3.3->lightautoml==0.4.0) (2.1.0)\r\n",
      "Requirement already satisfied: sphinxcontrib-jsmath>=1.0.1 in /usr/local/lib/python3.10/dist-packages (from sphinx->autowoe>=1.3.3->lightautoml==0.4.0) (1.0.1)\r\n",
      "Requirement already satisfied: sphinxcontrib-qthelp>=1.0.6 in /usr/local/lib/python3.10/dist-packages (from sphinx->autowoe>=1.3.3->lightautoml==0.4.0) (2.0.0)\r\n",
      "Requirement already satisfied: sphinxcontrib-serializinghtml>=1.1.9 in /usr/local/lib/python3.10/dist-packages (from sphinx->autowoe>=1.3.3->lightautoml==0.4.0) (2.0.0)\r\n",
      "Requirement already satisfied: Pygments>=2.17 in /usr/local/lib/python3.10/dist-packages (from sphinx->autowoe>=1.3.3->lightautoml==0.4.0) (2.19.1)\r\n",
      "Requirement already satisfied: docutils<0.22,>=0.20 in /usr/local/lib/python3.10/dist-packages (from sphinx->autowoe>=1.3.3->lightautoml==0.4.0) (0.21.2)\r\n",
      "Requirement already satisfied: snowballstemmer>=2.2 in /usr/local/lib/python3.10/dist-packages (from sphinx->autowoe>=1.3.3->lightautoml==0.4.0) (2.2.0)\r\n",
      "Requirement already satisfied: babel>=2.13 in /usr/local/lib/python3.10/dist-packages (from sphinx->autowoe>=1.3.3->lightautoml==0.4.0) (2.16.0)\r\n",
      "Requirement already satisfied: alabaster>=0.7.14 in /usr/local/lib/python3.10/dist-packages (from sphinx->autowoe>=1.3.3->lightautoml==0.4.0) (1.0.0)\r\n",
      "Requirement already satisfied: imagesize>=1.3 in /usr/local/lib/python3.10/dist-packages (from sphinx->autowoe>=1.3.3->lightautoml==0.4.0) (1.4.1)\r\n",
      "Requirement already satisfied: requests>=2.30.0 in /usr/local/lib/python3.10/dist-packages (from sphinx->autowoe>=1.3.3->lightautoml==0.4.0) (2.32.3)\r\n",
      "Requirement already satisfied: intel-cmplr-lib-ur==2024.2.0 in /usr/local/lib/python3.10/dist-packages (from intel-openmp>=2024->mkl->numpy<2.0.0->lightautoml==0.4.0) (2024.2.0)\r\n",
      "Requirement already satisfied: charset-normalizer<4,>=2 in /usr/local/lib/python3.10/dist-packages (from requests>=2.30.0->sphinx->autowoe>=1.3.3->lightautoml==0.4.0) (3.4.1)\r\n",
      "Requirement already satisfied: idna<4,>=2.5 in /usr/local/lib/python3.10/dist-packages (from requests>=2.30.0->sphinx->autowoe>=1.3.3->lightautoml==0.4.0) (3.10)\r\n",
      "Requirement already satisfied: urllib3<3,>=1.21.1 in /usr/local/lib/python3.10/dist-packages (from requests>=2.30.0->sphinx->autowoe>=1.3.3->lightautoml==0.4.0) (2.3.0)\r\n",
      "Requirement already satisfied: certifi>=2017.4.17 in /usr/local/lib/python3.10/dist-packages (from requests>=2.30.0->sphinx->autowoe>=1.3.3->lightautoml==0.4.0) (2025.1.31)\r\n",
      "Installing collected packages: lightautoml\r\n",
      "Successfully installed lightautoml-0.4.0\r\n",
      "Processing /kaggle/input/pip-install-lifelines/autograd-1.7.0-py3-none-any.whl\r\n",
      "Requirement already satisfied: numpy in /usr/local/lib/python3.10/dist-packages (from autograd==1.7.0) (1.26.4)\r\n",
      "Requirement already satisfied: mkl_fft in /usr/local/lib/python3.10/dist-packages (from numpy->autograd==1.7.0) (1.3.8)\r\n",
      "Requirement already satisfied: mkl_random in /usr/local/lib/python3.10/dist-packages (from numpy->autograd==1.7.0) (1.2.4)\r\n",
      "Requirement already satisfied: mkl_umath in /usr/local/lib/python3.10/dist-packages (from numpy->autograd==1.7.0) (0.1.1)\r\n",
      "Requirement already satisfied: mkl in /usr/local/lib/python3.10/dist-packages (from numpy->autograd==1.7.0) (2025.0.1)\r\n",
      "Requirement already satisfied: tbb4py in /usr/local/lib/python3.10/dist-packages (from numpy->autograd==1.7.0) (2022.0.0)\r\n",
      "Requirement already satisfied: mkl-service in /usr/local/lib/python3.10/dist-packages (from numpy->autograd==1.7.0) (2.4.1)\r\n",
      "Requirement already satisfied: intel-openmp>=2024 in /usr/local/lib/python3.10/dist-packages (from mkl->numpy->autograd==1.7.0) (2024.2.0)\r\n",
      "Requirement already satisfied: tbb==2022.* in /usr/local/lib/python3.10/dist-packages (from mkl->numpy->autograd==1.7.0) (2022.0.0)\r\n",
      "Requirement already satisfied: tcmlib==1.* in /usr/local/lib/python3.10/dist-packages (from tbb==2022.*->mkl->numpy->autograd==1.7.0) (1.2.0)\r\n",
      "Requirement already satisfied: intel-cmplr-lib-rt in /usr/local/lib/python3.10/dist-packages (from mkl_umath->numpy->autograd==1.7.0) (2024.2.0)\r\n",
      "Requirement already satisfied: intel-cmplr-lib-ur==2024.2.0 in /usr/local/lib/python3.10/dist-packages (from intel-openmp>=2024->mkl->numpy->autograd==1.7.0) (2024.2.0)\r\n",
      "autograd is already installed with the same version as the provided wheel. Use --force-reinstall to force an installation of the wheel.\r\n",
      "Processing /kaggle/input/pip-install-lifelines/autograd-gamma-0.5.0.tar.gz\r\n",
      "  Preparing metadata (setup.py) ... \u001b[?25l\u001b[?25hdone\r\n",
      "Requirement already satisfied: autograd>=1.2.0 in /usr/local/lib/python3.10/dist-packages (from autograd-gamma==0.5.0) (1.7.0)\r\n",
      "Requirement already satisfied: scipy>=1.2.0 in /usr/local/lib/python3.10/dist-packages (from autograd-gamma==0.5.0) (1.13.1)\r\n",
      "Requirement already satisfied: numpy in /usr/local/lib/python3.10/dist-packages (from autograd>=1.2.0->autograd-gamma==0.5.0) (1.26.4)\r\n",
      "Requirement already satisfied: mkl_fft in /usr/local/lib/python3.10/dist-packages (from numpy->autograd>=1.2.0->autograd-gamma==0.5.0) (1.3.8)\r\n",
      "Requirement already satisfied: mkl_random in /usr/local/lib/python3.10/dist-packages (from numpy->autograd>=1.2.0->autograd-gamma==0.5.0) (1.2.4)\r\n",
      "Requirement already satisfied: mkl_umath in /usr/local/lib/python3.10/dist-packages (from numpy->autograd>=1.2.0->autograd-gamma==0.5.0) (0.1.1)\r\n",
      "Requirement already satisfied: mkl in /usr/local/lib/python3.10/dist-packages (from numpy->autograd>=1.2.0->autograd-gamma==0.5.0) (2025.0.1)\r\n",
      "Requirement already satisfied: tbb4py in /usr/local/lib/python3.10/dist-packages (from numpy->autograd>=1.2.0->autograd-gamma==0.5.0) (2022.0.0)\r\n",
      "Requirement already satisfied: mkl-service in /usr/local/lib/python3.10/dist-packages (from numpy->autograd>=1.2.0->autograd-gamma==0.5.0) (2.4.1)\r\n",
      "Requirement already satisfied: intel-openmp>=2024 in /usr/local/lib/python3.10/dist-packages (from mkl->numpy->autograd>=1.2.0->autograd-gamma==0.5.0) (2024.2.0)\r\n",
      "Requirement already satisfied: tbb==2022.* in /usr/local/lib/python3.10/dist-packages (from mkl->numpy->autograd>=1.2.0->autograd-gamma==0.5.0) (2022.0.0)\r\n",
      "Requirement already satisfied: tcmlib==1.* in /usr/local/lib/python3.10/dist-packages (from tbb==2022.*->mkl->numpy->autograd>=1.2.0->autograd-gamma==0.5.0) (1.2.0)\r\n",
      "Requirement already satisfied: intel-cmplr-lib-rt in /usr/local/lib/python3.10/dist-packages (from mkl_umath->numpy->autograd>=1.2.0->autograd-gamma==0.5.0) (2024.2.0)\r\n",
      "Requirement already satisfied: intel-cmplr-lib-ur==2024.2.0 in /usr/local/lib/python3.10/dist-packages (from intel-openmp>=2024->mkl->numpy->autograd>=1.2.0->autograd-gamma==0.5.0) (2024.2.0)\r\n",
      "Building wheels for collected packages: autograd-gamma\r\n",
      "  Building wheel for autograd-gamma (setup.py) ... \u001b[?25l\u001b[?25hdone\r\n",
      "  Created wheel for autograd-gamma: filename=autograd_gamma-0.5.0-py3-none-any.whl size=4031 sha256=03971321206ac5eceb02af06e87bd368a4aa71ef759dbbb246109e451902013b\r\n",
      "  Stored in directory: /root/.cache/pip/wheels/6b/b5/e0/4c79e15c0b5f2c15ecf613c720bb20daab20a666eb67135155\r\n",
      "Successfully built autograd-gamma\r\n",
      "Installing collected packages: autograd-gamma\r\n",
      "Successfully installed autograd-gamma-0.5.0\r\n",
      "Processing /kaggle/input/pip-install-lifelines/interface_meta-1.3.0-py3-none-any.whl\r\n",
      "Installing collected packages: interface-meta\r\n",
      "Successfully installed interface-meta-1.3.0\r\n",
      "Processing /kaggle/input/pip-install-lifelines/formulaic-1.0.2-py3-none-any.whl\r\n",
      "Requirement already satisfied: interface-meta>=1.2.0 in /usr/local/lib/python3.10/dist-packages (from formulaic==1.0.2) (1.3.0)\r\n",
      "Requirement already satisfied: numpy>=1.16.5 in /usr/local/lib/python3.10/dist-packages (from formulaic==1.0.2) (1.26.4)\r\n",
      "Requirement already satisfied: pandas>=1.0 in /usr/local/lib/python3.10/dist-packages (from formulaic==1.0.2) (2.2.3)\r\n",
      "Requirement already satisfied: scipy>=1.6 in /usr/local/lib/python3.10/dist-packages (from formulaic==1.0.2) (1.13.1)\r\n",
      "Requirement already satisfied: typing-extensions>=4.2.0 in /usr/local/lib/python3.10/dist-packages (from formulaic==1.0.2) (4.12.2)\r\n",
      "Requirement already satisfied: wrapt>=1.0 in /usr/local/lib/python3.10/dist-packages (from formulaic==1.0.2) (1.17.0)\r\n",
      "Requirement already satisfied: mkl_fft in /usr/local/lib/python3.10/dist-packages (from numpy>=1.16.5->formulaic==1.0.2) (1.3.8)\r\n",
      "Requirement already satisfied: mkl_random in /usr/local/lib/python3.10/dist-packages (from numpy>=1.16.5->formulaic==1.0.2) (1.2.4)\r\n",
      "Requirement already satisfied: mkl_umath in /usr/local/lib/python3.10/dist-packages (from numpy>=1.16.5->formulaic==1.0.2) (0.1.1)\r\n",
      "Requirement already satisfied: mkl in /usr/local/lib/python3.10/dist-packages (from numpy>=1.16.5->formulaic==1.0.2) (2025.0.1)\r\n",
      "Requirement already satisfied: tbb4py in /usr/local/lib/python3.10/dist-packages (from numpy>=1.16.5->formulaic==1.0.2) (2022.0.0)\r\n",
      "Requirement already satisfied: mkl-service in /usr/local/lib/python3.10/dist-packages (from numpy>=1.16.5->formulaic==1.0.2) (2.4.1)\r\n",
      "Requirement already satisfied: python-dateutil>=2.8.2 in /usr/local/lib/python3.10/dist-packages (from pandas>=1.0->formulaic==1.0.2) (2.9.0.post0)\r\n",
      "Requirement already satisfied: pytz>=2020.1 in /usr/local/lib/python3.10/dist-packages (from pandas>=1.0->formulaic==1.0.2) (2025.1)\r\n",
      "Requirement already satisfied: tzdata>=2022.7 in /usr/local/lib/python3.10/dist-packages (from pandas>=1.0->formulaic==1.0.2) (2025.1)\r\n",
      "Requirement already satisfied: six>=1.5 in /usr/local/lib/python3.10/dist-packages (from python-dateutil>=2.8.2->pandas>=1.0->formulaic==1.0.2) (1.17.0)\r\n",
      "Requirement already satisfied: intel-openmp>=2024 in /usr/local/lib/python3.10/dist-packages (from mkl->numpy>=1.16.5->formulaic==1.0.2) (2024.2.0)\r\n",
      "Requirement already satisfied: tbb==2022.* in /usr/local/lib/python3.10/dist-packages (from mkl->numpy>=1.16.5->formulaic==1.0.2) (2022.0.0)\r\n",
      "Requirement already satisfied: tcmlib==1.* in /usr/local/lib/python3.10/dist-packages (from tbb==2022.*->mkl->numpy>=1.16.5->formulaic==1.0.2) (1.2.0)\r\n",
      "Requirement already satisfied: intel-cmplr-lib-rt in /usr/local/lib/python3.10/dist-packages (from mkl_umath->numpy>=1.16.5->formulaic==1.0.2) (2024.2.0)\r\n",
      "Requirement already satisfied: intel-cmplr-lib-ur==2024.2.0 in /usr/local/lib/python3.10/dist-packages (from intel-openmp>=2024->mkl->numpy>=1.16.5->formulaic==1.0.2) (2024.2.0)\r\n",
      "Installing collected packages: formulaic\r\n",
      "Successfully installed formulaic-1.0.2\r\n",
      "Processing /kaggle/input/pip-install-lifelines/lifelines-0.30.0-py3-none-any.whl\r\n",
      "Requirement already satisfied: numpy>=1.14.0 in /usr/local/lib/python3.10/dist-packages (from lifelines==0.30.0) (1.26.4)\r\n",
      "Requirement already satisfied: scipy>=1.7.0 in /usr/local/lib/python3.10/dist-packages (from lifelines==0.30.0) (1.13.1)\r\n",
      "Requirement already satisfied: pandas>=2.1 in /usr/local/lib/python3.10/dist-packages (from lifelines==0.30.0) (2.2.3)\r\n",
      "Requirement already satisfied: matplotlib>=3.0 in /usr/local/lib/python3.10/dist-packages (from lifelines==0.30.0) (3.7.5)\r\n",
      "Requirement already satisfied: autograd>=1.5 in /usr/local/lib/python3.10/dist-packages (from lifelines==0.30.0) (1.7.0)\r\n",
      "Requirement already satisfied: autograd-gamma>=0.3 in /usr/local/lib/python3.10/dist-packages (from lifelines==0.30.0) (0.5.0)\r\n",
      "Requirement already satisfied: formulaic>=0.2.2 in /usr/local/lib/python3.10/dist-packages (from lifelines==0.30.0) (1.0.2)\r\n",
      "Requirement already satisfied: interface-meta>=1.2.0 in /usr/local/lib/python3.10/dist-packages (from formulaic>=0.2.2->lifelines==0.30.0) (1.3.0)\r\n",
      "Requirement already satisfied: typing-extensions>=4.2.0 in /usr/local/lib/python3.10/dist-packages (from formulaic>=0.2.2->lifelines==0.30.0) (4.12.2)\r\n",
      "Requirement already satisfied: wrapt>=1.0 in /usr/local/lib/python3.10/dist-packages (from formulaic>=0.2.2->lifelines==0.30.0) (1.17.0)\r\n",
      "Requirement already satisfied: contourpy>=1.0.1 in /usr/local/lib/python3.10/dist-packages (from matplotlib>=3.0->lifelines==0.30.0) (1.3.1)\r\n",
      "Requirement already satisfied: cycler>=0.10 in /usr/local/lib/python3.10/dist-packages (from matplotlib>=3.0->lifelines==0.30.0) (0.12.1)\r\n",
      "Requirement already satisfied: fonttools>=4.22.0 in /usr/local/lib/python3.10/dist-packages (from matplotlib>=3.0->lifelines==0.30.0) (4.55.3)\r\n",
      "Requirement already satisfied: kiwisolver>=1.0.1 in /usr/local/lib/python3.10/dist-packages (from matplotlib>=3.0->lifelines==0.30.0) (1.4.7)\r\n",
      "Requirement already satisfied: packaging>=20.0 in /usr/local/lib/python3.10/dist-packages (from matplotlib>=3.0->lifelines==0.30.0) (24.2)\r\n",
      "Requirement already satisfied: pillow>=6.2.0 in /usr/local/lib/python3.10/dist-packages (from matplotlib>=3.0->lifelines==0.30.0) (11.0.0)\r\n",
      "Requirement already satisfied: pyparsing>=2.3.1 in /usr/local/lib/python3.10/dist-packages (from matplotlib>=3.0->lifelines==0.30.0) (3.2.0)\r\n",
      "Requirement already satisfied: python-dateutil>=2.7 in /usr/local/lib/python3.10/dist-packages (from matplotlib>=3.0->lifelines==0.30.0) (2.9.0.post0)\r\n",
      "Requirement already satisfied: mkl_fft in /usr/local/lib/python3.10/dist-packages (from numpy>=1.14.0->lifelines==0.30.0) (1.3.8)\r\n",
      "Requirement already satisfied: mkl_random in /usr/local/lib/python3.10/dist-packages (from numpy>=1.14.0->lifelines==0.30.0) (1.2.4)\r\n",
      "Requirement already satisfied: mkl_umath in /usr/local/lib/python3.10/dist-packages (from numpy>=1.14.0->lifelines==0.30.0) (0.1.1)\r\n",
      "Requirement already satisfied: mkl in /usr/local/lib/python3.10/dist-packages (from numpy>=1.14.0->lifelines==0.30.0) (2025.0.1)\r\n",
      "Requirement already satisfied: tbb4py in /usr/local/lib/python3.10/dist-packages (from numpy>=1.14.0->lifelines==0.30.0) (2022.0.0)\r\n",
      "Requirement already satisfied: mkl-service in /usr/local/lib/python3.10/dist-packages (from numpy>=1.14.0->lifelines==0.30.0) (2.4.1)\r\n",
      "Requirement already satisfied: pytz>=2020.1 in /usr/local/lib/python3.10/dist-packages (from pandas>=2.1->lifelines==0.30.0) (2025.1)\r\n",
      "Requirement already satisfied: tzdata>=2022.7 in /usr/local/lib/python3.10/dist-packages (from pandas>=2.1->lifelines==0.30.0) (2025.1)\r\n",
      "Requirement already satisfied: six>=1.5 in /usr/local/lib/python3.10/dist-packages (from python-dateutil>=2.7->matplotlib>=3.0->lifelines==0.30.0) (1.17.0)\r\n",
      "Requirement already satisfied: intel-openmp>=2024 in /usr/local/lib/python3.10/dist-packages (from mkl->numpy>=1.14.0->lifelines==0.30.0) (2024.2.0)\r\n",
      "Requirement already satisfied: tbb==2022.* in /usr/local/lib/python3.10/dist-packages (from mkl->numpy>=1.14.0->lifelines==0.30.0) (2022.0.0)\r\n",
      "Requirement already satisfied: tcmlib==1.* in /usr/local/lib/python3.10/dist-packages (from tbb==2022.*->mkl->numpy>=1.14.0->lifelines==0.30.0) (1.2.0)\r\n",
      "Requirement already satisfied: intel-cmplr-lib-rt in /usr/local/lib/python3.10/dist-packages (from mkl_umath->numpy>=1.14.0->lifelines==0.30.0) (2024.2.0)\r\n",
      "Requirement already satisfied: intel-cmplr-lib-ur==2024.2.0 in /usr/local/lib/python3.10/dist-packages (from intel-openmp>=2024->mkl->numpy>=1.14.0->lifelines==0.30.0) (2024.2.0)\r\n",
      "Installing collected packages: lifelines\r\n",
      "Successfully installed lifelines-0.30.0\r\n"
     ]
    }
   ],
   "source": [
    "!pip install /kaggle/input/lightautoml-pip/json2html-1.3.0-py3-none-any.whl\n",
    "!pip install /kaggle/input/lightautoml-pip/autowoe-1.3.3-py3-none-any.whl\n",
    "!pip install /kaggle/input/lightautoml-pip/poetry_core-1.9.1-py3-none-any.whl\n",
    "!pip install /kaggle/input/lightautoml-pip/statsmodels-0.14.0-cp310-cp310-manylinux_2_17_x86_64.manylinux2014_x86_64.whl\n",
    "!pip install /kaggle/input/lightautoml-pip/cmaes-0.11.1-py3-none-any.whl\n",
    "!pip install /kaggle/input/lightautoml-pip/lightautoml-0.4.0-py3-none-any.whl\n",
    "!pip install /kaggle/input/pip-install-lifelines/autograd-1.7.0-py3-none-any.whl\n",
    "!pip install /kaggle/input/pip-install-lifelines/autograd-gamma-0.5.0.tar.gz\n",
    "!pip install /kaggle/input/pip-install-lifelines/interface_meta-1.3.0-py3-none-any.whl\n",
    "!pip install /kaggle/input/pip-install-lifelines/formulaic-1.0.2-py3-none-any.whl\n",
    "!pip install /kaggle/input/pip-install-lifelines/lifelines-0.30.0-py3-none-any.whl"
   ]
  },
  {
   "cell_type": "code",
   "execution_count": 3,
   "id": "3ec12f5f",
   "metadata": {
    "execution": {
     "iopub.execute_input": "2025-02-18T18:13:20.659605Z",
     "iopub.status.busy": "2025-02-18T18:13:20.659354Z",
     "iopub.status.idle": "2025-02-18T18:13:57.135155Z",
     "shell.execute_reply": "2025-02-18T18:13:57.134156Z"
    },
    "papermill": {
     "duration": 36.490963,
     "end_time": "2025-02-18T18:13:57.142728",
     "exception": false,
     "start_time": "2025-02-18T18:13:20.651765",
     "status": "completed"
    },
    "tags": []
   },
   "outputs": [
    {
     "name": "stdout",
     "output_type": "stream",
     "text": [
      "All libraries were imported successfully.\n"
     ]
    }
   ],
   "source": [
    "try:\n",
    "    import numpy as np\n",
    "    import pandas as pd\n",
    "    import re\n",
    "    import matplotlib.pyplot as plt\n",
    "    from sklearn.model_selection import train_test_split\n",
    "    from sklearn.impute import SimpleImputer\n",
    "    from sklearn.preprocessing import StandardScaler,OneHotEncoder \n",
    "    from sklearn.base import clone\n",
    "    from lifelines import KaplanMeierFitter, BreslowFlemingHarringtonFitter, NelsonAalenFitter\n",
    "    from lightautoml.automl.presets.tabular_presets import TabularAutoML\n",
    "    from lightautoml.tasks import Task\n",
    "    import xgboost as xgb\n",
    "    from lifelines.utils import concordance_index\n",
    "\n",
    "\n",
    "    print(\"All libraries were imported successfully.\")\n",
    "\n",
    "except ImportError as e:\n",
    "    print(f\"Error importing libraries: {e}\")\n"
   ]
  },
  {
   "cell_type": "code",
   "execution_count": 4,
   "id": "04861ae3",
   "metadata": {
    "execution": {
     "iopub.execute_input": "2025-02-18T18:13:57.157713Z",
     "iopub.status.busy": "2025-02-18T18:13:57.157189Z",
     "iopub.status.idle": "2025-02-18T18:13:57.489747Z",
     "shell.execute_reply": "2025-02-18T18:13:57.488928Z"
    },
    "papermill": {
     "duration": 0.341624,
     "end_time": "2025-02-18T18:13:57.491239",
     "exception": false,
     "start_time": "2025-02-18T18:13:57.149615",
     "status": "completed"
    },
    "tags": []
   },
   "outputs": [
    {
     "name": "stdout",
     "output_type": "stream",
     "text": [
      "Test shape: (3, 58)\n",
      "Train shape: (28800, 60)\n"
     ]
    }
   ],
   "source": [
    "test = pd.read_csv(\"/kaggle/input/equity-post-HCT-survival-predictions/test.csv\")\n",
    "print(\"Test shape:\", test.shape)\n",
    "\n",
    "train = pd.read_csv(\"/kaggle/input/equity-post-HCT-survival-predictions/train.csv\")\n",
    "print(\"Train shape:\", train.shape)"
   ]
  },
  {
   "cell_type": "code",
   "execution_count": 5,
   "id": "444f360d",
   "metadata": {
    "execution": {
     "iopub.execute_input": "2025-02-18T18:13:57.507506Z",
     "iopub.status.busy": "2025-02-18T18:13:57.507195Z",
     "iopub.status.idle": "2025-02-18T18:13:57.886388Z",
     "shell.execute_reply": "2025-02-18T18:13:57.885499Z"
    },
    "papermill": {
     "duration": 0.389233,
     "end_time": "2025-02-18T18:13:57.887759",
     "exception": false,
     "start_time": "2025-02-18T18:13:57.498526",
     "status": "completed"
    },
    "tags": []
   },
   "outputs": [
    {
     "data": {
      "image/png": "[encoded data removed]",
      "text/plain": [
       "<Figure size 640x480 with 1 Axes>"
      ]
     },
     "metadata": {},
     "output_type": "display_data"
    }
   ],
   "source": [
    "import matplotlib.pyplot as plt\n",
    "\n",
    "# Separate the data based on 'efs' values (assuming 'efs' is binary, e.g., 0 and 1)\n",
    "efs_0_times = train[train['efs'] == 0]['efs_time']\n",
    "efs_1_times = train[train['efs'] == 1]['efs_time']\n",
    "\n",
    "# Create histograms for each 'efs' category\n",
    "plt.hist(efs_1_times.dropna(), bins=30, alpha=0.7, label='EFS = 1',  edgecolor='black')\n",
    "plt.hist(efs_0_times.dropna(), bins=30, alpha=0.7, label='EFS = 0',  edgecolor='black')\n",
    "\n",
    "# Add title and labels\n",
    "plt.title('Distribution of Event-Free Survival Time by EFS Category')\n",
    "plt.xlabel('Event-Free Survival Time')\n",
    "plt.ylabel('Frequency')\n",
    "\n",
    "# Show legend\n",
    "plt.legend()\n",
    "\n",
    "# Display the plot\n",
    "plt.show()\n"
   ]
  },
  {
   "cell_type": "code",
   "execution_count": 6,
   "id": "7a0c780a",
   "metadata": {
    "execution": {
     "iopub.execute_input": "2025-02-18T18:13:57.903903Z",
     "iopub.status.busy": "2025-02-18T18:13:57.903647Z",
     "iopub.status.idle": "2025-02-18T18:13:58.039568Z",
     "shell.execute_reply": "2025-02-18T18:13:58.038705Z"
    },
    "papermill": {
     "duration": 0.145377,
     "end_time": "2025-02-18T18:13:58.040823",
     "exception": false,
     "start_time": "2025-02-18T18:13:57.895446",
     "status": "completed"
    },
    "tags": []
   },
   "outputs": [
    {
     "data": {
      "image/png": "[encoded data removed]",
      "text/plain": [
       "<Figure size 640x480 with 1 Axes>"
      ]
     },
     "metadata": {},
     "output_type": "display_data"
    }
   ],
   "source": [
    "import matplotlib.pyplot as plt\n",
    "import seaborn as sns\n",
    "\n",
    "sns.countplot(x='efs', data=train)\n",
    "plt.title('Distribution of Event-free Survival')\n",
    "plt.show()\n"
   ]
  },
  {
   "cell_type": "code",
   "execution_count": 7,
   "id": "34f5b9a3",
   "metadata": {
    "execution": {
     "iopub.execute_input": "2025-02-18T18:13:58.057665Z",
     "iopub.status.busy": "2025-02-18T18:13:58.057433Z",
     "iopub.status.idle": "2025-02-18T18:13:58.062970Z",
     "shell.execute_reply": "2025-02-18T18:13:58.062309Z"
    },
    "papermill": {
     "duration": 0.015096,
     "end_time": "2025-02-18T18:13:58.064041",
     "exception": false,
     "start_time": "2025-02-18T18:13:58.048945",
     "status": "completed"
    },
    "tags": []
   },
   "outputs": [],
   "source": [
    "def score(solution: pd.DataFrame, submission: pd.DataFrame, row_id_column_name: str) -> float:\n",
    "    # Remove ID columns\n",
    "    del solution[row_id_column_name]\n",
    "    del submission[row_id_column_name]\n",
    "\n",
    "    event_label = 'efs'\n",
    "    interval_label = 'efs_time'\n",
    "    prediction_label = 'prediction'\n",
    "\n",
    "    # Ensure submission columns are numeric\n",
    "    for col in submission.columns:\n",
    "        if not pd.api.types.is_numeric_dtype(submission[col]):\n",
    "            raise Exception(f'Submission column {col} must be a number')\n",
    "\n",
    "    # Merge true and predicted values\n",
    "    merged_df = pd.concat([solution, submission], axis=1)\n",
    "    merged_df.reset_index(inplace=True)\n",
    "\n",
    "    # Group by race_group and compute concordance index per group\n",
    "    merged_df_race_dict = dict(merged_df.groupby(['race_group']).groups)\n",
    "    c_index_list = []\n",
    "    \n",
    "    # Calculate the C-index for each race group\n",
    "    for race in merged_df_race_dict.keys():\n",
    "        indices = sorted(merged_df_race_dict[race])\n",
    "        merged_df_race = merged_df.iloc[indices]\n",
    "        \n",
    "        # Calculate C-index for this race group\n",
    "        c_index_race = concordance_index(\n",
    "            merged_df_race[interval_label],\n",
    "            -merged_df_race[prediction_label],\n",
    "            merged_df_race[event_label]\n",
    "        )\n",
    "        \n",
    "        # Store the C-index for this race group\n",
    "        c_index_list.append(c_index_race)\n",
    "    \n",
    "    # Calculate the mean and standard deviation of the C-index scores across all race groups\n",
    "    mean_c_index = np.mean(c_index_list)\n",
    "    std_c_index = np.std(c_index_list)\n",
    "    \n",
    "    # Return the stratified C-index score: mean - std\n",
    "    return float(mean_c_index - std_c_index)\n"
   ]
  },
  {
   "cell_type": "code",
   "execution_count": 8,
   "id": "5f10576f",
   "metadata": {
    "execution": {
     "iopub.execute_input": "2025-02-18T18:13:58.081583Z",
     "iopub.status.busy": "2025-02-18T18:13:58.081271Z",
     "iopub.status.idle": "2025-02-18T18:13:58.096119Z",
     "shell.execute_reply": "2025-02-18T18:13:58.095349Z"
    },
    "papermill": {
     "duration": 0.025144,
     "end_time": "2025-02-18T18:13:58.097425",
     "exception": false,
     "start_time": "2025-02-18T18:13:58.072281",
     "status": "completed"
    },
    "tags": []
   },
   "outputs": [],
   "source": [
    "# Define target and feature columns\n",
    "id_et_tgt = [\"ID\", \"efs\", \"efs_time\", \"y_km\", \"y_bf\", \"y_na\", \"y_co\"]\n",
    "features = [c for c in train.columns if c not in id_et_tgt]\n",
    "\n",
    "# Separate categorical and numerical features\n",
    "cat_cols = train.select_dtypes('object').columns.tolist()\n",
    "num_cols = train.select_dtypes(include=['number']).columns.tolist()\n",
    "num_cols = [c for c in num_cols if c not in id_et_tgt]\n",
    "\n",
    "# Save race_group column separately for evaluation\n",
    "train_race = train[['ID', 'race_group', 'efs', 'efs_time']]\n",
    "test_race = test[['ID', 'race_group']]"
   ]
  },
  {
   "cell_type": "code",
   "execution_count": 9,
   "id": "29221175",
   "metadata": {
    "execution": {
     "iopub.execute_input": "2025-02-18T18:13:58.115852Z",
     "iopub.status.busy": "2025-02-18T18:13:58.115567Z",
     "iopub.status.idle": "2025-02-18T18:13:58.123311Z",
     "shell.execute_reply": "2025-02-18T18:13:58.122401Z"
    },
    "papermill": {
     "duration": 0.01879,
     "end_time": "2025-02-18T18:13:58.124754",
     "exception": false,
     "start_time": "2025-02-18T18:13:58.105964",
     "status": "completed"
    },
    "tags": []
   },
   "outputs": [],
   "source": [
    "# Function to generate safe and unique feature names\n",
    "def _make_safe_and_unique(feature_names):\n",
    "    used = {}\n",
    "    safe_unique_names = []\n",
    "\n",
    "    for fname in feature_names:\n",
    "        base = re.sub(r'[^0-9a-zA-Z_]+', '_', fname)\n",
    "        base = re.sub(r'_+', '_', base).strip('_')\n",
    "\n",
    "        unique_name = base\n",
    "        counter = 1\n",
    "        while unique_name in used:\n",
    "            counter += 1\n",
    "            unique_name = f\"{base}__{counter}\"\n",
    "\n",
    "        used[unique_name] = True\n",
    "        safe_unique_names.append(unique_name)\n",
    "\n",
    "    return safe_unique_names\n",
    "\n",
    "# Function to encode categorical features\n",
    "def cat_encode(data, cat_cols, encoder=None):\n",
    "    df_cat = data[cat_cols]\n",
    "    df_other = data.drop(columns=cat_cols)\n",
    "\n",
    "    if encoder is None:\n",
    "        encoder = OneHotEncoder(sparse_output=False, handle_unknown='ignore')\n",
    "        encoded_array = encoder.fit_transform(df_cat)\n",
    "    else:\n",
    "        encoded_array = encoder.transform(df_cat)\n",
    "\n",
    "    raw_feature_names = encoder.get_feature_names_out(cat_cols)\n",
    "    cleaned_feature_names = _make_safe_and_unique(raw_feature_names)\n",
    "\n",
    "    encoded_df = pd.DataFrame(encoded_array, columns=cleaned_feature_names, index=data.index)\n",
    "    new_data = pd.concat([df_other, encoded_df], axis=1)\n",
    "\n",
    "    return new_data, encoder\n",
    "\n",
    "# Function to normalize numerical features\n",
    "def scale_numeric_features(data, num_cols, scaler=None):\n",
    "    df_num = data[num_cols]\n",
    "    df_other = data.drop(columns=num_cols)\n",
    "\n",
    "    if scaler is None:\n",
    "        scaler = StandardScaler()\n",
    "        scaled_array = scaler.fit_transform(df_num)\n",
    "    else:\n",
    "        scaled_array = scaler.transform(df_num)\n",
    "\n",
    "    scaled_df = pd.DataFrame(scaled_array, columns=num_cols, index=data.index)\n",
    "    new_data = pd.concat([df_other, scaled_df], axis=1)\n",
    "\n",
    "    return new_data, scaler\n"
   ]
  },
  {
   "cell_type": "code",
   "execution_count": 10,
   "id": "18b98bdb",
   "metadata": {
    "execution": {
     "iopub.execute_input": "2025-02-18T18:13:58.144500Z",
     "iopub.status.busy": "2025-02-18T18:13:58.144248Z",
     "iopub.status.idle": "2025-02-18T18:13:58.672479Z",
     "shell.execute_reply": "2025-02-18T18:13:58.671744Z"
    },
    "papermill": {
     "duration": 0.540056,
     "end_time": "2025-02-18T18:13:58.674140",
     "exception": false,
     "start_time": "2025-02-18T18:13:58.134084",
     "status": "completed"
    },
    "tags": []
   },
   "outputs": [],
   "source": [
    "# Apply transformations\n",
    "origin_cols = list(train.columns)\n",
    "\n",
    "# Encode categorical features\n",
    "train, encoder = cat_encode(train, cat_cols)\n",
    "test, _ = cat_encode(test, cat_cols, encoder=encoder)\n",
    "\n",
    "# Scale numerical features\n",
    "train, scaler = scale_numeric_features(train, num_cols)\n",
    "test, _ = scale_numeric_features(test, num_cols, scaler=scaler)\n",
    "\n",
    "# Update feature list\n",
    "new_features = [c for c in features if c not in cat_cols]\n",
    "diff_cols = list(train.columns.difference(origin_cols))\n",
    "new_features += diff_cols"
   ]
  },
  {
   "cell_type": "code",
   "execution_count": 11,
   "id": "85f3e438",
   "metadata": {
    "execution": {
     "iopub.execute_input": "2025-02-18T18:13:58.691247Z",
     "iopub.status.busy": "2025-02-18T18:13:58.690989Z",
     "iopub.status.idle": "2025-02-18T18:13:58.741008Z",
     "shell.execute_reply": "2025-02-18T18:13:58.739956Z"
    },
    "papermill": {
     "duration": 0.059804,
     "end_time": "2025-02-18T18:13:58.742341",
     "exception": false,
     "start_time": "2025-02-18T18:13:58.682537",
     "status": "completed"
    },
    "tags": []
   },
   "outputs": [
    {
     "name": "stdout",
     "output_type": "stream",
     "text": [
      "hla_match_c_high , hla_high_res_8 , hla_low_res_6 , hla_high_res_6 , hla_high_res_10 , hla_match_dqb1_high , hla_nmdp_6 , hla_match_c_low , hla_match_drb1_low , hla_match_dqb1_low , year_hct , hla_match_a_high , donor_age , hla_match_b_low , age_at_hct , hla_match_a_low , hla_match_b_high , comorbidity_score , karnofsky_score , hla_low_res_8 , hla_match_drb1_high , hla_low_res_10 , arrhythmia_No , arrhythmia_Not_done , arrhythmia_Yes , arrhythmia_nan , cardiac_No , cardiac_Not_done , cardiac_Yes , cardiac_nan , cmv_status__2 , cmv_status__3 , cmv_status__4 , cmv_status_nan , conditioning_intensity_MAC , conditioning_intensity_NMA , conditioning_intensity_N_A_F_pre_TED_not_submitted , conditioning_intensity_No_drugs_reported , conditioning_intensity_RIC , conditioning_intensity_TBD , conditioning_intensity_nan , cyto_score_Favorable , cyto_score_Intermediate , cyto_score_Normal , cyto_score_Not_tested , cyto_score_Other , cyto_score_Poor , cyto_score_TBD , cyto_score_detail_Favorable , cyto_score_detail_Intermediate , cyto_score_detail_Not_tested , cyto_score_detail_Poor , cyto_score_detail_TBD , cyto_score_detail_nan , cyto_score_nan , diabetes_No , diabetes_Not_done , diabetes_Yes , diabetes_nan , donor_related_Multiple_donor_non_UCB , donor_related_Related , donor_related_Unrelated , donor_related_nan , dri_score_High , dri_score_High_TED_AML_case_missing_cytogenetics , dri_score_Intermediate , dri_score_Intermediate_TED_AML_case_missing_cytogenetics , dri_score_Low , dri_score_Missing_disease_status , dri_score_N_A_disease_not_classifiable , dri_score_N_A_non_malignant_indication , dri_score_N_A_pediatric , dri_score_TBD_cytogenetics , dri_score_Very_high , dri_score_nan , ethnicity_Hispanic_or_Latino , ethnicity_Non_resident_of_the_U_S , ethnicity_Not_Hispanic_or_Latino , ethnicity_nan , graft_type_Bone_marrow , graft_type_Peripheral_blood , gvhd_proph_CDselect_alone , gvhd_proph_CDselect_other , gvhd_proph_CSA_MMF_others_not_FK , gvhd_proph_CSA_MTX_others_not_MMF_FK , gvhd_proph_CSA_alone , gvhd_proph_CSA_others_not_FK_MMF_MTX , gvhd_proph_Cyclophosphamide_alone , gvhd_proph_Cyclophosphamide_others , gvhd_proph_FK_MMF_others , gvhd_proph_FK_MTX_others_not_MMF , gvhd_proph_FK_others_not_MMF_MTX , gvhd_proph_FKalone , gvhd_proph_No_GvHD_Prophylaxis , gvhd_proph_Other_GVHD_Prophylaxis , gvhd_proph_Parent_Q_yes_but_no_agent , gvhd_proph_TDEPLETION_alone , gvhd_proph_TDEPLETION_other , gvhd_proph_nan , hepatic_mild_No , hepatic_mild_Not_done , hepatic_mild_Yes , hepatic_mild_nan , hepatic_severe_No , hepatic_severe_Not_done , hepatic_severe_Yes , hepatic_severe_nan , in_vivo_tcd_No , in_vivo_tcd_Yes , in_vivo_tcd_nan , melphalan_dose_MEL , melphalan_dose_N_A_Mel_not_given , melphalan_dose_nan , mrd_hct_Negative , mrd_hct_Positive , mrd_hct_nan , obesity_No , obesity_Not_done , obesity_Yes , obesity_nan , peptic_ulcer_No , peptic_ulcer_Not_done , peptic_ulcer_Yes , peptic_ulcer_nan , prim_disease_hct_AI , prim_disease_hct_ALL , prim_disease_hct_AML , prim_disease_hct_CML , prim_disease_hct_HD , prim_disease_hct_HIS , prim_disease_hct_IEA , prim_disease_hct_IIS , prim_disease_hct_IMD , prim_disease_hct_IPA , prim_disease_hct_MDS , prim_disease_hct_MPN , prim_disease_hct_NHL , prim_disease_hct_Other_acute_leukemia , prim_disease_hct_Other_leukemia , prim_disease_hct_PCD , prim_disease_hct_SAA , prim_disease_hct_Solid_tumor , prior_tumor_No , prior_tumor_Not_done , prior_tumor_Yes , prior_tumor_nan , prod_type_BM , prod_type_PB , psych_disturb_No , psych_disturb_Not_done , psych_disturb_Yes , psych_disturb_nan , pulm_moderate_No , pulm_moderate_Not_done , pulm_moderate_Yes , pulm_moderate_nan , pulm_severe_No , pulm_severe_Not_done , pulm_severe_Yes , pulm_severe_nan , race_group_American_Indian_or_Alaska_Native , race_group_Asian , race_group_Black_or_African_American , race_group_More_than_one_race , race_group_Native_Hawaiian_or_other_Pacific_Islander , race_group_White , renal_issue_No , renal_issue_Not_done , renal_issue_Yes , renal_issue_nan , rheum_issue_No , rheum_issue_Not_done , rheum_issue_Yes , rheum_issue_nan , rituximab_No , rituximab_Yes , rituximab_nan , sex_match_F_F , sex_match_F_M , sex_match_M_F , sex_match_M_M , sex_match_nan , tbi_status_No_TBI , tbi_status_TBI_Cy_Other , tbi_status_TBI_Other_cGy , tbi_status_TBI_Other_cGy__2 , tbi_status_TBI_Other_cGy_fractionated , tbi_status_TBI_Other_cGy_single , tbi_status_TBI_Other_cGy_unknown_dose , tbi_status_TBI_Other_unknown_dose , tce_div_match_Bi_directional_non_permissive , tce_div_match_GvH_non_permissive , tce_div_match_HvG_non_permissive , tce_div_match_Permissive_mismatched , tce_div_match_nan , tce_imm_match_G_B , tce_imm_match_G_G , tce_imm_match_H_B , tce_imm_match_H_H , tce_imm_match_P_B , tce_imm_match_P_G , tce_imm_match_P_H , tce_imm_match_P_P , tce_imm_match_nan , tce_match_Fully_matched , tce_match_GvH_non_permissive , tce_match_HvG_non_permissive , tce_match_Permissive , tce_match_nan , vent_hist_No , vent_hist_Yes , vent_hist_nan , "
     ]
    }
   ],
   "source": [
    "for i in new_features:\n",
    "    print(i, end = \" \")\n",
    "    print(\", \" ,end = \"\")"
   ]
  },
  {
   "cell_type": "code",
   "execution_count": 12,
   "id": "8ff568e7",
   "metadata": {
    "execution": {
     "iopub.execute_input": "2025-02-18T18:13:58.759075Z",
     "iopub.status.busy": "2025-02-18T18:13:58.758831Z",
     "iopub.status.idle": "2025-02-18T18:13:58.840747Z",
     "shell.execute_reply": "2025-02-18T18:13:58.839863Z"
    },
    "papermill": {
     "duration": 0.092078,
     "end_time": "2025-02-18T18:13:58.842531",
     "exception": false,
     "start_time": "2025-02-18T18:13:58.750453",
     "status": "completed"
    },
    "tags": []
   },
   "outputs": [],
   "source": [
    "from sklearn.impute import SimpleImputer\n",
    "from sklearn.preprocessing import StandardScaler\n",
    "\n",
    "def num_encode(data, num_cols, encoder=None):\n",
    "    \"\"\"\n",
    "    Perform missing value imputation and normalization on numerical columns.\n",
    "    \n",
    "    Args:\n",
    "        data: pd.DataFrame - Input dataset.\n",
    "        num_cols: list - List of numerical column names.\n",
    "        encoder: tuple - Pre-trained (imputer, scaler) (default: None).\n",
    "    \n",
    "    Returns:\n",
    "        new_data: pd.DataFrame - Transformed dataset.\n",
    "        encoder: tuple - Trained (imputer, scaler).\n",
    "    \"\"\"\n",
    "    df_num = data[num_cols].copy()  # Copy to avoid modifying original data\n",
    "    \n",
    "    if encoder is None:\n",
    "        imputer = SimpleImputer(strategy='mean')  \n",
    "        scaler = StandardScaler()\n",
    "        \n",
    "        df_num[:] = imputer.fit_transform(df_num)\n",
    "        df_num[:] = scaler.fit_transform(df_num)\n",
    "\n",
    "        encoder = (imputer, scaler)\n",
    "    else:\n",
    "        imputer, scaler = encoder\n",
    "        \n",
    "        df_num[:] = imputer.transform(df_num)\n",
    "        df_num[:] = scaler.transform(df_num)\n",
    "\n",
    "    # Concatenate transformed numerical data with the rest of the dataset\n",
    "    df_other = data.drop(columns=num_cols)\n",
    "    new_data = pd.concat([df_other, df_num], axis=1)\n",
    "\n",
    "    return new_data, encoder\n",
    "\n",
    "# Apply transformations\n",
    "train, encoder = num_encode(train, num_cols)\n",
    "test, _ = num_encode(test, num_cols, encoder=encoder)\n"
   ]
  },
  {
   "cell_type": "code",
   "execution_count": 13,
   "id": "d1bc1175",
   "metadata": {
    "execution": {
     "iopub.execute_input": "2025-02-18T18:13:58.859856Z",
     "iopub.status.busy": "2025-02-18T18:13:58.859561Z",
     "iopub.status.idle": "2025-02-18T18:14:00.734617Z",
     "shell.execute_reply": "2025-02-18T18:14:00.733831Z"
    },
    "papermill": {
     "duration": 1.885277,
     "end_time": "2025-02-18T18:14:00.736058",
     "exception": false,
     "start_time": "2025-02-18T18:13:58.850781",
     "status": "completed"
    },
    "tags": []
   },
   "outputs": [
    {
     "data": {
      "image/png": "[encoded data removed]",
      "text/plain": [
       "<Figure size 640x480 with 1 Axes>"
      ]
     },
     "metadata": {},
     "output_type": "display_data"
    },
    {
     "data": {
      "image/png": "[encoded data removed]",
      "text/plain": [
       "<Figure size 640x480 with 1 Axes>"
      ]
     },
     "metadata": {},
     "output_type": "display_data"
    },
    {
     "data": {
      "image/png": "[encoded data removed]",
      "text/plain": [
       "<Figure size 640x480 with 1 Axes>"
      ]
     },
     "metadata": {},
     "output_type": "display_data"
    },
    {
     "data": {
      "image/png": "[encoded data removed]",
      "text/plain": [
       "<Figure size 640x480 with 1 Axes>"
      ]
     },
     "metadata": {},
     "output_type": "display_data"
    }
   ],
   "source": [
    "from lifelines import KaplanMeierFitter\n",
    "\n",
    "kmf = KaplanMeierFitter()\n",
    "kmf.fit(train['efs_time'], train['efs'])\n",
    "train['y_km'] = kmf.survival_function_at_times(train['efs_time']).values\n",
    "\n",
    "from lifelines import BreslowFlemingHarringtonFitter\n",
    "\n",
    "bff = BreslowFlemingHarringtonFitter()\n",
    "bff.fit(train['efs_time'], train['efs'])\n",
    "train['y_bf'] = bff.survival_function_at_times(train['efs_time']).values\n",
    "\n",
    "from lifelines import NelsonAalenFitter\n",
    "\n",
    "naf = NelsonAalenFitter()\n",
    "naf.fit(durations=train['efs_time'], event_observed=train['efs'])\n",
    "train['y_na'] = naf.cumulative_hazard_at_times(train['efs_time']).values\n",
    "train['y_na'] = train['y_na'] * -1\n",
    "\n",
    "train[\"y_co\"] = train.efs_time.copy()\n",
    "train.loc[train.efs==0, \"y_co\"] *= -1\n",
    "\n",
    "\n",
    "plt.hist(train.loc[train.efs == 1, \"y_km\"], bins=100, label=\"efs=1, Did Not Survive\")\n",
    "plt.hist(train.loc[train.efs == 0, \"y_km\"], bins=100, label=\"efs=0, Maybe Survived\")\n",
    "plt.xlabel(\"Transformed Target y\")\n",
    "plt.ylabel(\"Density\")\n",
    "plt.title(\"KaplanMeier\")\n",
    "plt.legend()\n",
    "plt.show()\n",
    "\n",
    "plt.hist(train.loc[train.efs == 1, \"y_bf\"], bins=100, label=\"efs=1, Did Not Survive\")\n",
    "plt.hist(train.loc[train.efs == 0, \"y_bf\"], bins=100, label=\"efs=0, Maybe Survived\")\n",
    "plt.xlabel(\"Transformed Target y\")\n",
    "plt.ylabel(\"Density\")\n",
    "plt.title(\"BreslowFlemingHarrington\")\n",
    "plt.legend()\n",
    "plt.show()\n",
    "\n",
    "plt.hist(train.loc[train.efs == 1, \"y_na\"], bins=100, label=\"efs=1, Did Not Survive\")\n",
    "plt.hist(train.loc[train.efs == 0, \"y_na\"], bins=100, label=\"efs=0, Maybe Survived\")\n",
    "plt.xlabel(\"Transformed Target y\")\n",
    "plt.ylabel(\"Density\")\n",
    "plt.title(\"NelsonAalen\")\n",
    "plt.legend()\n",
    "plt.show()\n",
    "\n",
    "plt.hist(train.loc[train.efs == 1, \"y_co\"], bins=100, label=\"efs=1, Did Not Survive\")\n",
    "plt.hist(train.loc[train.efs == 0, \"y_co\"], bins=100, label=\"efs=0, Maybe Survived\")\n",
    "plt.xlabel(\"Transformed Target y\")\n",
    "plt.ylabel(\"Density\")\n",
    "plt.title(\"COX\")\n",
    "plt.legend()\n",
    "plt.show()"
   ]
  },
  {
   "cell_type": "code",
   "execution_count": 14,
   "id": "692111b5",
   "metadata": {
    "execution": {
     "iopub.execute_input": "2025-02-18T18:14:00.757258Z",
     "iopub.status.busy": "2025-02-18T18:14:00.757026Z",
     "iopub.status.idle": "2025-02-18T18:14:00.761745Z",
     "shell.execute_reply": "2025-02-18T18:14:00.761098Z"
    },
    "papermill": {
     "duration": 0.016353,
     "end_time": "2025-02-18T18:14:00.762947",
     "exception": false,
     "start_time": "2025-02-18T18:14:00.746594",
     "status": "completed"
    },
    "tags": []
   },
   "outputs": [
    {
     "data": {
      "text/plain": [
       "['ID', 'efs', 'efs_time', 'y_km', 'y_bf', 'y_co']"
      ]
     },
     "execution_count": 14,
     "metadata": {},
     "output_type": "execute_result"
    }
   ],
   "source": [
    "target_label = \"y_na\"\n",
    "\n",
    "cols_to_drop = [col for col in id_et_tgt if col != target_label]\n",
    "cols_to_drop"
   ]
  },
  {
   "cell_type": "code",
   "execution_count": 15,
   "id": "b4ae72ab",
   "metadata": {
    "execution": {
     "iopub.execute_input": "2025-02-18T18:14:00.783339Z",
     "iopub.status.busy": "2025-02-18T18:14:00.783124Z",
     "iopub.status.idle": "2025-02-18T18:14:00.838028Z",
     "shell.execute_reply": "2025-02-18T18:14:00.837287Z"
    },
    "papermill": {
     "duration": 0.066851,
     "end_time": "2025-02-18T18:14:00.839624",
     "exception": false,
     "start_time": "2025-02-18T18:14:00.772773",
     "status": "completed"
    },
    "tags": []
   },
   "outputs": [],
   "source": [
    "# Prepare train data\n",
    "train_feat_et_tgt = train.drop(columns=cols_to_drop)\n",
    "\n",
    "# Split train/validation sets\n",
    "train_split, valid_split, train_race_split, valid_race_split = train_test_split(\n",
    "    train_feat_et_tgt, train_race, test_size=0.01, random_state=42\n",
    ")"
   ]
  },
  {
   "cell_type": "code",
   "execution_count": 16,
   "id": "f1c0502c",
   "metadata": {
    "execution": {
     "iopub.execute_input": "2025-02-18T18:14:00.860996Z",
     "iopub.status.busy": "2025-02-18T18:14:00.860709Z",
     "iopub.status.idle": "2025-02-18T18:14:00.891100Z",
     "shell.execute_reply": "2025-02-18T18:14:00.890493Z"
    },
    "papermill": {
     "duration": 0.04208,
     "end_time": "2025-02-18T18:14:00.892403",
     "exception": false,
     "start_time": "2025-02-18T18:14:00.850323",
     "status": "completed"
    },
    "tags": []
   },
   "outputs": [],
   "source": [
    "# --- LightAutoML Training (DNN) ---\n",
    "task = Task('reg')\n",
    "automl = TabularAutoML(\n",
    "    gpu_ids='0,1',\n",
    "    task=task,\n",
    "    reader_params={'cv': 5, 'random_state': 42},\n",
    "    general_params={'allowed_algos': ['nn']}\n",
    ")\n",
    "\n"
   ]
  },
  {
   "cell_type": "code",
   "execution_count": 17,
   "id": "0e99c1bd",
   "metadata": {
    "execution": {
     "iopub.execute_input": "2025-02-18T18:14:00.912826Z",
     "iopub.status.busy": "2025-02-18T18:14:00.912586Z",
     "iopub.status.idle": "2025-02-18T18:25:58.517705Z",
     "shell.execute_reply": "2025-02-18T18:25:58.516889Z"
    },
    "papermill": {
     "duration": 717.620045,
     "end_time": "2025-02-18T18:25:58.522122",
     "exception": false,
     "start_time": "2025-02-18T18:14:00.902077",
     "status": "completed"
    },
    "tags": []
   },
   "outputs": [],
   "source": [
    "oof_pred = automl.fit_predict(train_split, roles={'target': target_label})\n"
   ]
  },
  {
   "cell_type": "code",
   "execution_count": 18,
   "id": "4dfcf709",
   "metadata": {
    "execution": {
     "iopub.execute_input": "2025-02-18T18:25:58.559235Z",
     "iopub.status.busy": "2025-02-18T18:25:58.558921Z",
     "iopub.status.idle": "2025-02-18T18:25:59.097968Z",
     "shell.execute_reply": "2025-02-18T18:25:59.096772Z"
    },
    "papermill": {
     "duration": 0.557895,
     "end_time": "2025-02-18T18:25:59.099526",
     "exception": false,
     "start_time": "2025-02-18T18:25:58.541631",
     "status": "completed"
    },
    "tags": []
   },
   "outputs": [
    {
     "name": "stdout",
     "output_type": "stream",
     "text": [
      "CPU times: user 1.04 s, sys: 7.77 ms, total: 1.04 s\n",
      "Wall time: 534 ms\n"
     ]
    }
   ],
   "source": [
    "%%time\n",
    "valid_pred_laml = automl.predict(valid_split).data.flatten()"
   ]
  },
  {
   "cell_type": "code",
   "execution_count": 19,
   "id": "1494f1fc",
   "metadata": {
    "execution": {
     "iopub.execute_input": "2025-02-18T18:25:59.121147Z",
     "iopub.status.busy": "2025-02-18T18:25:59.120904Z",
     "iopub.status.idle": "2025-02-18T18:25:59.135259Z",
     "shell.execute_reply": "2025-02-18T18:25:59.134357Z"
    },
    "papermill": {
     "duration": 0.026437,
     "end_time": "2025-02-18T18:25:59.136557",
     "exception": false,
     "start_time": "2025-02-18T18:25:59.110120",
     "status": "completed"
    },
    "tags": []
   },
   "outputs": [
    {
     "name": "stdout",
     "output_type": "stream",
     "text": [
      "Validation Concordance Index Score: 0.5786118239771761\n"
     ]
    }
   ],
   "source": [
    "# Prepare final submission DataFrame using only LightAutoML predictions\n",
    "valid_pred_df = pd.DataFrame({'ID': valid_race_split['ID'].values, 'prediction': valid_pred_laml})\n",
    "\n",
    "# Evaluate using Concordance Index\n",
    "valid_race_split = valid_race_split.reset_index(drop=True)\n",
    "valid_score = score(\n",
    "    valid_race_split[['ID', 'efs', 'efs_time', 'race_group']].copy(),\n",
    "    valid_pred_df.copy(),\n",
    "    row_id_column_name='ID'\n",
    ")\n",
    "\n",
    "print(\"Validation Concordance Index Score:\", valid_score)\n"
   ]
  },
  {
   "cell_type": "code",
   "execution_count": 20,
   "id": "91cb6f8a",
   "metadata": {
    "execution": {
     "iopub.execute_input": "2025-02-18T18:25:59.158044Z",
     "iopub.status.busy": "2025-02-18T18:25:59.157819Z",
     "iopub.status.idle": "2025-02-18T18:25:59.957250Z",
     "shell.execute_reply": "2025-02-18T18:25:59.956547Z"
    },
    "papermill": {
     "duration": 0.812021,
     "end_time": "2025-02-18T18:25:59.958869",
     "exception": false,
     "start_time": "2025-02-18T18:25:59.146848",
     "status": "completed"
    },
    "tags": []
   },
   "outputs": [],
   "source": [
    "test_feats = test.drop(columns=['ID'])\n",
    "sub_pred = automl.predict(test_feats).data\n"
   ]
  },
  {
   "cell_type": "code",
   "execution_count": 21,
   "id": "91fe5000",
   "metadata": {
    "execution": {
     "iopub.execute_input": "2025-02-18T18:25:59.980343Z",
     "iopub.status.busy": "2025-02-18T18:25:59.980086Z",
     "iopub.status.idle": "2025-02-18T18:26:00.009733Z",
     "shell.execute_reply": "2025-02-18T18:26:00.008888Z"
    },
    "papermill": {
     "duration": 0.041575,
     "end_time": "2025-02-18T18:26:00.011034",
     "exception": false,
     "start_time": "2025-02-18T18:25:59.969459",
     "status": "completed"
    },
    "tags": []
   },
   "outputs": [
    {
     "name": "stdout",
     "output_type": "stream",
     "text": [
      "Sub shape: (3, 2)\n"
     ]
    },
    {
     "data": {
      "text/html": [
       "<div>\n",
       "<style scoped>\n",
       "    .dataframe tbody tr th:only-of-type {\n",
       "        vertical-align: middle;\n",
       "    }\n",
       "\n",
       "    .dataframe tbody tr th {\n",
       "        vertical-align: top;\n",
       "    }\n",
       "\n",
       "    .dataframe thead th {\n",
       "        text-align: right;\n",
       "    }\n",
       "</style>\n",
       "<table border=\"1\" class=\"dataframe\">\n",
       "  <thead>\n",
       "    <tr style=\"text-align: right;\">\n",
       "      <th></th>\n",
       "      <th>ID</th>\n",
       "      <th>prediction</th>\n",
       "    </tr>\n",
       "  </thead>\n",
       "  <tbody>\n",
       "    <tr>\n",
       "      <th>0</th>\n",
       "      <td>28800</td>\n",
       "      <td>-0.714541</td>\n",
       "    </tr>\n",
       "    <tr>\n",
       "      <th>1</th>\n",
       "      <td>28801</td>\n",
       "      <td>-0.428179</td>\n",
       "    </tr>\n",
       "    <tr>\n",
       "      <th>2</th>\n",
       "      <td>28802</td>\n",
       "      <td>-0.790939</td>\n",
       "    </tr>\n",
       "  </tbody>\n",
       "</table>\n",
       "</div>"
      ],
      "text/plain": [
       "      ID  prediction\n",
       "0  28800   -0.714541\n",
       "1  28801   -0.428179\n",
       "2  28802   -0.790939"
      ]
     },
     "execution_count": 21,
     "metadata": {},
     "output_type": "execute_result"
    }
   ],
   "source": [
    "sub = pd.read_csv(\"/kaggle/input/equity-post-HCT-survival-predictions/sample_submission.csv\")\n",
    "sub.prediction = sub_pred\n",
    "sub.to_csv(\"submission.csv\", index=False)\n",
    "print(\"Sub shape:\", sub.shape)\n",
    "sub.head()"
   ]
  },
  {
   "cell_type": "code",
   "execution_count": null,
   "id": "6769f965",
   "metadata": {
    "papermill": {
     "duration": 0.009789,
     "end_time": "2025-02-18T18:26:00.030989",
     "exception": false,
     "start_time": "2025-02-18T18:26:00.021200",
     "status": "completed"
    },
    "tags": []
   },
   "outputs": [],
   "source": []
  }
 ],
 "metadata": {
  "kaggle": {
   "accelerator": "gpu",
   "dataSources": [
    {
     "databundleVersionId": 10381525,
     "isSourceIdPinned": false,
     "sourceId": 70942,
     "sourceType": "competition"
    },
    {
     "datasetId": 6625830,
     "sourceId": 10693643,
     "sourceType": "datasetVersion"
    },
    {
     "sourceId": 211322530,
     "sourceType": "kernelVersion"
    }
   ],
   "dockerImageVersionId": 30887,
   "isGpuEnabled": true,
   "isInternetEnabled": false,
   "language": "python",
   "sourceType": "notebook"
  },
  "kernelspec": {
   "display_name": "Python 3",
   "language": "python",
   "name": "python3"
  },
  "language_info": {
   "codemirror_mode": {
    "name": "ipython",
    "version": 3
   },
   "file_extension": ".py",
   "mimetype": "text/x-python",
   "name": "python",
   "nbconvert_exporter": "python",
   "pygments_lexer": "ipython3",
   "version": "3.10.12"
  },
  "papermill": {
   "default_parameters": {},
   "duration": 811.36509,
   "end_time": "2025-02-18T18:26:03.596677",
   "environment_variables": {},
   "exception": null,
   "input_path": "__notebook__.ipynb",
   "output_path": "__notebook__.ipynb",
   "parameters": {},
   "start_time": "2025-02-18T18:12:32.231587",
   "version": "2.6.0"
  }
 },
 "nbformat": 4,
 "nbformat_minor": 5
}
